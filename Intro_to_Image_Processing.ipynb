{
  "nbformat": 4,
  "nbformat_minor": 0,
  "metadata": {
    "colab": {
      "provenance": []
    },
    "kernelspec": {
      "name": "python3",
      "display_name": "Python 3"
    },
    "language_info": {
      "name": "python"
    }
  },
  "cells": [
    {
      "cell_type": "markdown",
      "source": [
        "[![Open In Colab](https://colab.research.google.com/assets/colab-badge.svg)](https://github.com/rhudaina/CENTREX-for-STEM-DepEd-QCSHS/blob/main/Intro_to_Image_Processing.ipynb)"
      ],
      "metadata": {
        "id": "dvIFlV-JZ4vC"
      }
    },
    {
      "cell_type": "markdown",
      "source": [
        "## Load the Dependencies\n",
        "\n",
        "*   [Numpy](https://www.numpy.org/) is an array manipulation library, used for matrix algebra and random number capabilities.\n",
        "*   [Matplotlib](https://matplotlib.org/) is a library which generates figures and provides graphical user interface toolkit.\n",
        "*   [CV2](https://opencv-python-tutroals.readthedocs.io/en/latest/py_tutorials/py_gui/py_image_display/py_image_display.html) is a library for computer vision tasks."
      ],
      "metadata": {
        "id": "66DwN4NTfBAS"
      }
    },
    {
      "cell_type": "code",
      "source": [
        "import numpy as np\n",
        "from matplotlib import pyplot as plt\n",
        "import cv2 as cv"
      ],
      "metadata": {
        "id": "aJjrfHCVesMJ"
      },
      "execution_count": 51,
      "outputs": []
    },
    {
      "cell_type": "markdown",
      "source": [
        "# What is a Digital Image?\n",
        "\n",
        "A *digital image* is defined as a two-dimensional representation, i.e., picture, of some subject, usually a physical object or a person. The building blocks of digital images are *pixels* (picture elements). Because the pixels are so small and close together, our brain is able to assemble it into a meaningful image.\n",
        "\n",
        "The number of pixels used to represent the image determines the amount of detail in the image, known as *resolution* in terms of number of pixels (height) $\\times$ number of pixels (width)."
      ],
      "metadata": {
        "id": "snbeFsjxaTrC"
      }
    },
    {
      "cell_type": "markdown",
      "source": [
        "## Black & White Image\n",
        "\n",
        "In a black & white image, a black pixel is assigned a $0$ (no light), and a white pixel is assigned a $1$ (full light intensity).\n",
        "The entire image is represented by matrix consisting of $1$s and $0$s.\n",
        "\n",
        "Black and white images are called a $1$-bit image where each pixel is described by one bit (binary digit)."
      ],
      "metadata": {
        "id": "PYZZlGr9p_cf"
      }
    },
    {
      "cell_type": "code",
      "source": [
        "img_height = 10;\n",
        "img_width  = 10;\n",
        "numPixels = img_height * img_width;\n",
        "\n",
        "p = 0.4   # probability of white pixels\n",
        "M = np.random.binomial(1,p,numPixels).reshape((img_height,img_width))\n",
        "print(M)"
      ],
      "metadata": {
        "colab": {
          "base_uri": "https://localhost:8080/"
        },
        "id": "NLQiECQJkPKO",
        "outputId": "bc5226d7-5603-461f-a1fa-8da156cdb33d"
      },
      "execution_count": 106,
      "outputs": [
        {
          "output_type": "stream",
          "name": "stdout",
          "text": [
            "[[0 0 0 0 0 0 1 0 0 0]\n",
            " [0 0 0 1 0 0 1 1 0 0]\n",
            " [0 0 1 0 1 0 0 1 0 1]\n",
            " [1 0 1 1 0 0 0 0 1 1]\n",
            " [1 0 0 0 1 1 1 0 0 0]\n",
            " [1 1 0 0 0 0 0 1 0 1]\n",
            " [0 0 0 0 0 0 1 1 0 1]\n",
            " [1 0 1 1 0 0 0 1 1 0]\n",
            " [1 0 1 0 1 1 0 1 0 1]\n",
            " [0 0 0 1 0 0 0 0 0 0]]\n"
          ]
        }
      ]
    },
    {
      "cell_type": "code",
      "source": [
        "plt.pcolormesh(M, cmap='gray',edgecolors='gray')\n",
        "ax = plt.gca()\n",
        "ax.set_aspect('equal')\n",
        "ax.axis(\"off\")\n",
        "plt.show()"
      ],
      "metadata": {
        "colab": {
          "base_uri": "https://localhost:8080/",
          "height": 406
        },
        "id": "pQjvANublQBm",
        "outputId": "3281430d-2c26-4b06-cc0f-26e4de128d06"
      },
      "execution_count": 107,
      "outputs": [
        {
          "output_type": "display_data",
          "data": {
            "text/plain": [
              "<Figure size 640x480 with 1 Axes>"
            ],
            "image/png": "[encoded data removed]"
          },
          "metadata": {}
        }
      ]
    },
    {
      "cell_type": "code",
      "source": [
        "M = np.zeros((25,20))\n",
        "M[5:20,5:15] = 1;\n",
        "print(M)"
      ],
      "metadata": {
        "colab": {
          "base_uri": "https://localhost:8080/"
        },
        "id": "fyX-gcLAnca6",
        "outputId": "916fc401-77a6-4534-e0bb-7e52f4d79595"
      },
      "execution_count": 108,
      "outputs": [
        {
          "output_type": "stream",
          "name": "stdout",
          "text": [
            "[[0. 0. 0. 0. 0. 0. 0. 0. 0. 0. 0. 0. 0. 0. 0. 0. 0. 0. 0. 0.]\n",
            " [0. 0. 0. 0. 0. 0. 0. 0. 0. 0. 0. 0. 0. 0. 0. 0. 0. 0. 0. 0.]\n",
            " [0. 0. 0. 0. 0. 0. 0. 0. 0. 0. 0. 0. 0. 0. 0. 0. 0. 0. 0. 0.]\n",
            " [0. 0. 0. 0. 0. 0. 0. 0. 0. 0. 0. 0. 0. 0. 0. 0. 0. 0. 0. 0.]\n",
            " [0. 0. 0. 0. 0. 0. 0. 0. 0. 0. 0. 0. 0. 0. 0. 0. 0. 0. 0. 0.]\n",
            " [0. 0. 0. 0. 0. 1. 1. 1. 1. 1. 1. 1. 1. 1. 1. 0. 0. 0. 0. 0.]\n",
            " [0. 0. 0. 0. 0. 1. 1. 1. 1. 1. 1. 1. 1. 1. 1. 0. 0. 0. 0. 0.]\n",
            " [0. 0. 0. 0. 0. 1. 1. 1. 1. 1. 1. 1. 1. 1. 1. 0. 0. 0. 0. 0.]\n",
            " [0. 0. 0. 0. 0. 1. 1. 1. 1. 1. 1. 1. 1. 1. 1. 0. 0. 0. 0. 0.]\n",
            " [0. 0. 0. 0. 0. 1. 1. 1. 1. 1. 1. 1. 1. 1. 1. 0. 0. 0. 0. 0.]\n",
            " [0. 0. 0. 0. 0. 1. 1. 1. 1. 1. 1. 1. 1. 1. 1. 0. 0. 0. 0. 0.]\n",
            " [0. 0. 0. 0. 0. 1. 1. 1. 1. 1. 1. 1. 1. 1. 1. 0. 0. 0. 0. 0.]\n",
            " [0. 0. 0. 0. 0. 1. 1. 1. 1. 1. 1. 1. 1. 1. 1. 0. 0. 0. 0. 0.]\n",
            " [0. 0. 0. 0. 0. 1. 1. 1. 1. 1. 1. 1. 1. 1. 1. 0. 0. 0. 0. 0.]\n",
            " [0. 0. 0. 0. 0. 1. 1. 1. 1. 1. 1. 1. 1. 1. 1. 0. 0. 0. 0. 0.]\n",
            " [0. 0. 0. 0. 0. 1. 1. 1. 1. 1. 1. 1. 1. 1. 1. 0. 0. 0. 0. 0.]\n",
            " [0. 0. 0. 0. 0. 1. 1. 1. 1. 1. 1. 1. 1. 1. 1. 0. 0. 0. 0. 0.]\n",
            " [0. 0. 0. 0. 0. 1. 1. 1. 1. 1. 1. 1. 1. 1. 1. 0. 0. 0. 0. 0.]\n",
            " [0. 0. 0. 0. 0. 1. 1. 1. 1. 1. 1. 1. 1. 1. 1. 0. 0. 0. 0. 0.]\n",
            " [0. 0. 0. 0. 0. 1. 1. 1. 1. 1. 1. 1. 1. 1. 1. 0. 0. 0. 0. 0.]\n",
            " [0. 0. 0. 0. 0. 0. 0. 0. 0. 0. 0. 0. 0. 0. 0. 0. 0. 0. 0. 0.]\n",
            " [0. 0. 0. 0. 0. 0. 0. 0. 0. 0. 0. 0. 0. 0. 0. 0. 0. 0. 0. 0.]\n",
            " [0. 0. 0. 0. 0. 0. 0. 0. 0. 0. 0. 0. 0. 0. 0. 0. 0. 0. 0. 0.]\n",
            " [0. 0. 0. 0. 0. 0. 0. 0. 0. 0. 0. 0. 0. 0. 0. 0. 0. 0. 0. 0.]\n",
            " [0. 0. 0. 0. 0. 0. 0. 0. 0. 0. 0. 0. 0. 0. 0. 0. 0. 0. 0. 0.]]\n"
          ]
        }
      ]
    },
    {
      "cell_type": "code",
      "source": [
        "plt.pcolormesh(M, cmap='gray')\n",
        "ax = plt.gca()\n",
        "ax.set_aspect('equal')\n",
        "ax.axis(\"off\")\n",
        "plt.show()"
      ],
      "metadata": {
        "colab": {
          "base_uri": "https://localhost:8080/",
          "height": 406
        },
        "id": "SQlCuiL4ptRT",
        "outputId": "b0f5f7d0-4528-44c0-aa30-b093dbb66c71"
      },
      "execution_count": 109,
      "outputs": [
        {
          "output_type": "display_data",
          "data": {
            "text/plain": [
              "<Figure size 640x480 with 1 Axes>"
            ],
            "image/png": "[encoded data removed]"
          },
          "metadata": {}
        }
      ]
    },
    {
      "cell_type": "code",
      "source": [
        "img_height = 50;\n",
        "img_width  = 50;\n",
        "\n",
        "cx = img_height/2;\n",
        "cy = img_width/2;\n",
        "rad = 10;\n",
        "\n",
        "M = np.zeros((img_height,img_width))\n",
        "I = np.ones((img_height,img_width))\n",
        "\n",
        "for i in range(img_height):\n",
        "  for j in range(img_width):\n",
        "    if (i-cx)**2 + (j-cy)**2 < rad**2:\n",
        "      M[i,j] = 1;\n",
        "\n",
        "plt.pcolormesh(M, cmap='gray')\n",
        "ax = plt.gca()\n",
        "ax.set_aspect('equal')\n",
        "ax.axis(\"off\")\n",
        "plt.show()"
      ],
      "metadata": {
        "colab": {
          "base_uri": "https://localhost:8080/",
          "height": 406
        },
        "id": "2KZ92kBKqytl",
        "outputId": "ee4fe82a-c4ff-4bbc-8222-37a7b2884358"
      },
      "execution_count": 125,
      "outputs": [
        {
          "output_type": "display_data",
          "data": {
            "text/plain": [
              "<Figure size 640x480 with 1 Axes>"
            ],
            "image/png": "[encoded data removed]"
          },
          "metadata": {}
        }
      ]
    },
    {
      "cell_type": "markdown",
      "source": [
        "## Grayscale Image"
      ],
      "metadata": {
        "id": "Z9ekK31Dme5h"
      }
    },
    {
      "cell_type": "code",
      "execution_count": 34,
      "metadata": {
        "colab": {
          "base_uri": "https://localhost:8080/",
          "height": 424
        },
        "id": "wZYAPS3ZZ2R7",
        "outputId": "b31ad331-e391-48de-abaf-b5f2f1230cb3"
      },
      "outputs": [
        {
          "output_type": "stream",
          "name": "stdout",
          "text": [
            "Image Resolution: (154, 120)\n"
          ]
        },
        {
          "output_type": "display_data",
          "data": {
            "text/plain": [
              "<Figure size 640x480 with 1 Axes>"
            ],
            "image/png": "[encoded data removed]"
          },
          "metadata": {}
        }
      ],
      "source": [
        "Img = cv.imread('image_bw.png',cv.IMREAD_UNCHANGED);  # reads digital image\n",
        "Img[Img==np.max(Img)]=1;\n",
        "print(\"Image Resolution:\", Img.shape)\n",
        "\n",
        "plt.imshow(Img, cmap='gray')\n",
        "ax = plt.gca();\n",
        "ax.grid(which='minor', color='g', linestyle='-', linewidth=2)\n",
        "plt.axis(\"off\")\n",
        "plt.show()"
      ]
    },
    {
      "cell_type": "code",
      "source": [
        "TopLeft = Img[5:16,5:16]\n",
        "print(TopLeft)\n",
        "plt.imshow(TopLeft,cmap='gray',interpolation='none')\n",
        "plt.grid()\n",
        "plt.axis(\"off\")\n",
        "plt.show()"
      ],
      "metadata": {
        "colab": {
          "base_uri": "https://localhost:8080/",
          "height": 608
        },
        "id": "oV55SyjefWuR",
        "outputId": "afb872ea-4c54-4c6f-ddf2-5bf292415e31"
      },
      "execution_count": 30,
      "outputs": [
        {
          "output_type": "stream",
          "name": "stdout",
          "text": [
            "[[0 0 0 0 0 0 0 0 0 0 0]\n",
            " [0 0 0 0 0 0 0 0 0 0 1]\n",
            " [0 0 0 0 0 0 0 0 0 1 1]\n",
            " [0 0 0 0 0 0 0 0 1 1 1]\n",
            " [0 0 0 0 0 0 1 1 1 1 1]\n",
            " [0 0 0 1 1 1 1 1 1 1 1]\n",
            " [1 1 1 1 1 1 1 1 1 1 1]\n",
            " [1 1 1 1 1 1 1 1 1 1 1]\n",
            " [1 1 1 1 1 1 1 1 1 1 1]\n",
            " [1 1 1 1 1 1 1 1 1 1 1]\n",
            " [1 1 1 1 1 1 1 1 1 1 1]]\n"
          ]
        },
        {
          "output_type": "display_data",
          "data": {
            "text/plain": [
              "<Figure size 640x480 with 1 Axes>"
            ],
            "image/png": "[encoded data removed]"
          },
          "metadata": {}
        }
      ]
    }
  ]
}
