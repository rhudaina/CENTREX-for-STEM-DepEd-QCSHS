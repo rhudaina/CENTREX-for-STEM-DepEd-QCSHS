{
  "nbformat": 4,
  "nbformat_minor": 0,
  "metadata": {
    "colab": {
      "provenance": [],
      "authorship_tag": "ABX9TyOMyqcwyMIhnLRWbTO9LS1j",
      "include_colab_link": true
    },
    "kernelspec": {
      "name": "python3",
      "display_name": "Python 3"
    },
    "language_info": {
      "name": "python"
    }
  },
  "cells": [
    {
      "cell_type": "markdown",
      "metadata": {
        "id": "view-in-github",
        "colab_type": "text"
      },
      "source": [
        "<a href=\"https://colab.research.google.com/github/rhudaina/CENTREX-for-STEM-DepEd-QCSHS/blob/main/Python_Basics.ipynb\" target=\"_parent\"><img src=\"https://colab.research.google.com/assets/colab-badge.svg\" alt=\"Open In Colab\"/></a>"
      ]
    },
    {
      "cell_type": "markdown",
      "source": [
        "# Hello, World!"
      ],
      "metadata": {
        "id": "bN3301eqbVTz"
      }
    },
    {
      "cell_type": "code",
      "execution_count": null,
      "metadata": {
        "id": "ehNzteOobOfA"
      },
      "outputs": [],
      "source": [
        "print(\"Hello, World!\")"
      ]
    },
    {
      "cell_type": "markdown",
      "source": [
        "Use `#` for a short, quick comment (or for debugging)"
      ],
      "metadata": {
        "id": "jqpttHp-ba0T"
      }
    },
    {
      "cell_type": "code",
      "source": [
        "# print(\"This is a comment.\")\n",
        "print(\"This is not a comment.\")"
      ],
      "metadata": {
        "id": "TYELKZVSbdvx"
      },
      "execution_count": null,
      "outputs": []
    },
    {
      "cell_type": "markdown",
      "source": [
        "Variables in Python can contain letters (lower or upper case), numbers 0-9, and some special characters, e.g., underscore\n",
        "*   variable names should start with a letter\n",
        "*   be sure not to use reserved words, e.g., `print`, `if`, `for`"
      ],
      "metadata": {
        "id": "nm83XDoxbgh0"
      }
    },
    {
      "cell_type": "code",
      "source": [
        "name = \"Juan dela Cruz\"\n",
        "print(\"Hello,\", name, \"!\")"
      ],
      "metadata": {
        "id": "lyLA3QLgbgQG"
      },
      "execution_count": null,
      "outputs": []
    },
    {
      "cell_type": "code",
      "source": [
        "x = 2    # integer assignment\n",
        "y = 2.0  # floating point assignment\n",
        "print(x,\"has type\",type(x),\"while\",y,\"has type\",type(y))"
      ],
      "metadata": {
        "id": "lQ43h9CJblUi"
      },
      "execution_count": null,
      "outputs": []
    },
    {
      "cell_type": "markdown",
      "source": [
        "# Arithmetic Operators"
      ],
      "metadata": {
        "id": "AZchmNL3bpDD"
      }
    },
    {
      "cell_type": "code",
      "source": [
        "print(5 + 4)  # addition\n",
        "print(5 - 4)  # subtraction\n",
        "print(5 * 4)  # multiplication\n",
        "print(5 / 4)  # division\n",
        "print(5 ** 4) # exponentiation"
      ],
      "metadata": {
        "id": "MSGxMWZWbp4p"
      },
      "execution_count": null,
      "outputs": []
    },
    {
      "cell_type": "code",
      "source": [
        "x = 2\n",
        "\n",
        "y = 3*x\n",
        "print(\"y =\",y,\"has type\",type(y))\n",
        "\n",
        "z = 3.0*x\n",
        "print(\"z =\",z,\"has type\",type(z))"
      ],
      "metadata": {
        "id": "TRRyBtlXbw85"
      },
      "execution_count": null,
      "outputs": []
    },
    {
      "cell_type": "markdown",
      "source": [
        "# Range and List\n",
        "\n",
        "`range(n)` returns a sequence of $n$ numbers starting from `0` to `n-1`"
      ],
      "metadata": {
        "id": "icmynkKWeKAT"
      }
    },
    {
      "cell_type": "code",
      "source": [
        "print(range(5))\n",
        "print(list(range(5)))   # lists all elements"
      ],
      "metadata": {
        "id": "MwDiwlyseSMp"
      },
      "execution_count": null,
      "outputs": []
    },
    {
      "cell_type": "markdown",
      "source": [
        "`range(start,stop,step)` produces a sequence of numbers with a specified number of elements"
      ],
      "metadata": {
        "id": "dJR6KY71efVS"
      }
    },
    {
      "cell_type": "code",
      "source": [
        "print(list(range(4,15)))\n",
        "print(list(range(4,15,2)))\n",
        "print(list(range(15,4,-1)))"
      ],
      "metadata": {
        "id": "YFGr2izAeh-w"
      },
      "execution_count": null,
      "outputs": []
    },
    {
      "cell_type": "markdown",
      "source": [
        "`in` operator is used to check if a specified object exists within an iterable object container, such as a list"
      ],
      "metadata": {
        "id": "yTmB60Z8elpn"
      }
    },
    {
      "cell_type": "code",
      "source": [
        "print(3 in range(5))\n",
        "print(5 in range(5))\n",
        "print(0 in range(5))"
      ],
      "metadata": {
        "id": "LxWKzDZieq_p"
      },
      "execution_count": null,
      "outputs": []
    },
    {
      "cell_type": "markdown",
      "source": [
        "# Functions\n",
        "\n",
        "Use `def` to define a function, followed by the function's name, any input variables in parenthesis, and a colon."
      ],
      "metadata": {
        "id": "6R9GdsTFbz9A"
      }
    },
    {
      "cell_type": "code",
      "source": [
        "def fun(x):\n",
        "  return(x**3 - 5)\n",
        "\n",
        "fun(2)"
      ],
      "metadata": {
        "id": "o766lprhb0zp"
      },
      "execution_count": null,
      "outputs": []
    },
    {
      "cell_type": "markdown",
      "source": [
        "# `numpy` (Numerical Python) package\n",
        "\n",
        "This is a foundational library for scientific computing in Python: `sqrt()`, `sin()`, `exp()`, `zeros()`, `ones()`, `array()`, `arange()`, `linspace()`, `meshgrid()`"
      ],
      "metadata": {
        "id": "FEtveRpdcCnO"
      }
    },
    {
      "cell_type": "code",
      "source": [
        "import numpy as np"
      ],
      "metadata": {
        "id": "_dnr3yJ3cCRo"
      },
      "execution_count": null,
      "outputs": []
    },
    {
      "cell_type": "markdown",
      "source": [
        "`zeros()` builds an array of zeros, often used for pre-allocating memory"
      ],
      "metadata": {
        "id": "eO4tj1bucMvQ"
      }
    },
    {
      "cell_type": "code",
      "source": [
        "A = np.zeros((3,5)) # 3x5 matrix of zeros\n",
        "print(A)"
      ],
      "metadata": {
        "id": "xFCCsOc3cKyR"
      },
      "execution_count": null,
      "outputs": []
    },
    {
      "cell_type": "markdown",
      "source": [
        "`ones()` builds an array of ones"
      ],
      "metadata": {
        "id": "7vvjvA35cPti"
      }
    },
    {
      "cell_type": "code",
      "source": [
        "B = np.ones((3,5)) # 3x5 matrix of ones\n",
        "print(B)"
      ],
      "metadata": {
        "id": "mx2bF7kfcSlI"
      },
      "execution_count": null,
      "outputs": []
    },
    {
      "cell_type": "markdown",
      "source": [
        "### Linspace\n",
        "\n",
        "`linspace(start, stop, number of points)` builds an array of floating point numbers with exactly the `number of points` specified from `start` to `stop` with equal spacing in between"
      ],
      "metadata": {
        "id": "hdav0bGGfAJv"
      }
    },
    {
      "cell_type": "code",
      "source": [
        "print(np.linspace(0,5,10))"
      ],
      "metadata": {
        "id": "yyZtmyOYfEtk"
      },
      "execution_count": null,
      "outputs": []
    },
    {
      "cell_type": "markdown",
      "source": [
        "## Arrays"
      ],
      "metadata": {
        "id": "1AAXx71TdhCU"
      }
    },
    {
      "cell_type": "markdown",
      "source": [],
      "metadata": {
        "id": "EqipzXTmdg6k"
      }
    },
    {
      "cell_type": "markdown",
      "source": [
        "`array()` builds an array of floating point numbers"
      ],
      "metadata": {
        "id": "tFH_us5GcRlm"
      }
    },
    {
      "cell_type": "code",
      "source": [
        "primes = np.array([2, 3, 5, 7, 9, 11, 13, 17]) # vector\n",
        "print(primes)"
      ],
      "metadata": {
        "id": "2cEQbBSDcw-O"
      },
      "execution_count": null,
      "outputs": []
    },
    {
      "cell_type": "code",
      "source": [
        "M = np.array([[1,2,3],[4,5,6],[7,8,9]]) # matrix\n",
        "print(M)"
      ],
      "metadata": {
        "id": "QYto7JdHdnCg"
      },
      "execution_count": null,
      "outputs": []
    },
    {
      "cell_type": "markdown",
      "source": [
        "### Indexing\n",
        "\n",
        "Python indexing starts at 0."
      ],
      "metadata": {
        "id": "WIFiXmc9c4n_"
      }
    },
    {
      "cell_type": "code",
      "source": [
        "print(primes[0])  # prints the first element\n",
        "print(primes[-1]) # prints the last element"
      ],
      "metadata": {
        "id": "mmgDYA09c3P-"
      },
      "execution_count": null,
      "outputs": []
    },
    {
      "cell_type": "markdown",
      "source": [
        "Use syntax `vector_name[start:stop]` to extract elements indexed `start` through `stop-1`."
      ],
      "metadata": {
        "id": "D0X11ZvodD0s"
      }
    },
    {
      "cell_type": "code",
      "source": [
        "print(primes[2:6])  # prints elements indexed 2 through 5\n",
        "print(primes[:3])   # prints the first three elements\n",
        "print(primes[-3:])  # prints the last three elements"
      ],
      "metadata": {
        "id": "zM4cu_tkdJt4"
      },
      "execution_count": null,
      "outputs": []
    },
    {
      "cell_type": "code",
      "source": [
        "print(M[0,0]) # top left\n",
        "print(M[2,2]) # bottom right\n",
        "print(M[0,:]) # first row\n",
        "print(M[:,2]) # second row"
      ],
      "metadata": {
        "id": "Eo4Y22LjcfQa"
      },
      "execution_count": null,
      "outputs": []
    },
    {
      "cell_type": "markdown",
      "source": [
        "There are built-in functions that can act directly on the numpy array as a matrix or a vector.\n",
        "*   `variable.shape` gives the shape (rows, columns) of a numpy array\n",
        "*   `variable.size` gives the size (total number number of elements) of a numpy array\n",
        "\n"
      ],
      "metadata": {
        "id": "oGuqjozOcrxG"
      }
    },
    {
      "cell_type": "code",
      "source": [
        "print(M.shape)\n",
        "print(primes.shape)"
      ],
      "metadata": {
        "id": "i69O3VARcX3k"
      },
      "execution_count": null,
      "outputs": []
    },
    {
      "cell_type": "code",
      "source": [
        "print(M.size)\n",
        "print(primes.size)"
      ],
      "metadata": {
        "id": "lgsTvwo_d3Wk"
      },
      "execution_count": null,
      "outputs": []
    }
  ]
}